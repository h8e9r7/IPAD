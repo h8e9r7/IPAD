{
 "cells": [
  {
   "cell_type": "code",
   "execution_count": 46,
   "metadata": {},
   "outputs": [],
   "source": [
    "\n",
    "import torch\n",
    "import torch.nn as nn\n",
    "import torch.nn.functional as F\n",
    "\n",
    "n_attrs = 8\n",
    "\n",
    "num = [6, 9, 8, 6, 5, 5, 10, 5]\n",
    "\n"
   ]
  },
  {
   "cell_type": "code",
   "execution_count": 44,
   "metadata": {},
   "outputs": [
    {
     "data": {
      "text/plain": [
       "[tensor([0.1481, 0.1437, 0.1637, 0.1235, 0.1505, 0.1375, 0.1331],\n",
       "        grad_fn=<SoftmaxBackward0>),\n",
       " tensor([0.1138, 0.1242, 0.1218, 0.0947, 0.1084, 0.1214, 0.1031, 0.1014, 0.1112],\n",
       "        grad_fn=<SoftmaxBackward0>),\n",
       " tensor([0.1523, 0.1832, 0.1560, 0.2086, 0.1755, 0.1244],\n",
       "        grad_fn=<SoftmaxBackward0>),\n",
       " tensor([0.1171, 0.1472, 0.1190, 0.0989, 0.1022, 0.1124, 0.0898, 0.1096, 0.1037],\n",
       "        grad_fn=<SoftmaxBackward0>)]"
      ]
     },
     "execution_count": 44,
     "metadata": {},
     "output_type": "execute_result"
    }
   ],
   "source": [
    "class MultiTaskMLP(nn.Module):\n",
    "    def __init__(self, feature_size, attr_nums):\n",
    "        super(MultiTaskMLP, self).__init__()\n",
    "        self.feature_size = feature_size\n",
    "        self.attr_nums = attr_nums\n",
    "\n",
    "        # Shared layers\n",
    "        self.shared_fc1 = nn.Linear(self.feature_size, 512)\n",
    "        self.shared_fc2 = nn.Linear(512, 256)\n",
    "\n",
    "        # Task-specific output layers\n",
    "        self.output_layers = nn.ModuleList([nn.Linear(256, val + 1) for val in self.attr_nums])\n",
    "\n",
    "        self.sigmoid = nn.Sigmoid()\n",
    "\n",
    "    def forward(self, x, a):\n",
    "        # Shared layers\n",
    "        x = F.relu(self.shared_fc1(x))\n",
    "        x = F.relu(self.shared_fc2(x))\n",
    "\n",
    "        # Task-specific output\n",
    "        output = []\n",
    "        for i in range(x.size(0)):\n",
    "            task_out = F.softmax(self.output_layers[a[i]](x[i]), dim=0)\n",
    "            output.append(task_out)\n",
    "        # output = torch.stack(output)\n",
    "        return output\n",
    "    \n",
    "\n",
    "class ValueCrossEntropy(nn.Module):\n",
    "    def __init__(self):\n",
    "        super(ValueCrossEntropy, self).__init__()\n",
    "    \n",
    "    def forward(self, y_pred, value):\n",
    "        loss = 0.\n",
    "        \n",
    "        for _o, _v in zip(y_pred, value):\n",
    "            _loss = F.cross_entropy(_o.unsqueeze(0), torch.tensor([_v], dtype=torch.long))\n",
    "            print(_loss)\n",
    "            loss += _loss\n",
    "\n",
    "        loss /= len(value)\n",
    "\n",
    "        return loss\n",
    "\n",
    "\n",
    "mmlp = MultiTaskMLP(feature_size=1024, attr_nums=num)\n",
    "vce = ValueCrossEntropy()\n",
    "\n",
    "features = torch.randn(4, 1024)\n",
    "a = [3, 2, 4, 2]\n",
    "v = [1, 2, 0, 1]\n",
    "\n",
    "out = mmlp(features, a)\n",
    "\n",
    "out\n"
   ]
  },
  {
   "cell_type": "code",
   "execution_count": 45,
   "metadata": {},
   "outputs": [
    {
     "name": "stdout",
     "output_type": "stream",
     "text": [
      "tensor(1.9451, grad_fn=<NllLossBackward0>)\n",
      "tensor(2.1866, grad_fn=<NllLossBackward0>)\n",
      "tensor(1.8065, grad_fn=<NllLossBackward0>)\n",
      "tensor(2.1612, grad_fn=<NllLossBackward0>)\n"
     ]
    },
    {
     "data": {
      "text/plain": [
       "tensor(2.0249, grad_fn=<DivBackward0>)"
      ]
     },
     "execution_count": 45,
     "metadata": {},
     "output_type": "execute_result"
    }
   ],
   "source": [
    "loss = vce(out, v)\n",
    "loss"
   ]
  },
  {
   "cell_type": "code",
   "execution_count": 52,
   "metadata": {},
   "outputs": [
    {
     "name": "stdout",
     "output_type": "stream",
     "text": [
      "3 1\n",
      "torch.Size([512])\n",
      "2 2\n",
      "torch.Size([512])\n",
      "4 0\n",
      "torch.Size([512])\n",
      "2 1\n",
      "torch.Size([512])\n"
     ]
    },
    {
     "data": {
      "text/plain": [
       "torch.Size([4, 512])"
      ]
     },
     "execution_count": 52,
     "metadata": {},
     "output_type": "execute_result"
    }
   ],
   "source": [
    "class ValueEmbedding(nn.Module):\n",
    "    def __init__(self,attr_nums, embed_size):\n",
    "        super(ValueEmbedding, self).__init__()\n",
    "        self.attr_nums = attr_nums # [6, 9, 8, 6, 5, 5, 10, 5]\n",
    "        self.n_attrs = len(self.attr_nums)\n",
    "\n",
    "        self.value_embedding  = nn.ModuleList(\n",
    "            [torch.nn.Embedding(value, embed_size) for value in self.attr_nums]\n",
    "        )\n",
    "\n",
    "    def forward(self, a, v):\n",
    "        out = []\n",
    "        for one_a, one_v in zip(a, v):\n",
    "            print(one_a, one_v)\n",
    "            one_out = self.value_embedding[one_a](torch.tensor(one_v, dtype=torch.long))\n",
    "            out.append(one_out)\n",
    "            print(one_out.shape)\n",
    "        return torch.stack(out)\n",
    "    \n",
    "vEmbed = ValueEmbedding(num, 512)\n",
    "a = [3, 2, 4, 2]\n",
    "v = [1, 2, 0, 1]\n",
    "out = vEmbed(a, v)\n",
    "out.shape\n"
   ]
  },
  {
   "cell_type": "code",
   "execution_count": null,
   "metadata": {},
   "outputs": [],
   "source": []
  }
 ],
 "metadata": {
  "kernelspec": {
   "display_name": "fashion",
   "language": "python",
   "name": "python3"
  },
  "language_info": {
   "codemirror_mode": {
    "name": "ipython",
    "version": 3
   },
   "file_extension": ".py",
   "mimetype": "text/x-python",
   "name": "python",
   "nbconvert_exporter": "python",
   "pygments_lexer": "ipython3",
   "version": "3.8.18"
  }
 },
 "nbformat": 4,
 "nbformat_minor": 2
}
